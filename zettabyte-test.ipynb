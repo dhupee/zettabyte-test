{
 "cells": [
  {
   "cell_type": "markdown",
   "metadata": {},
   "source": [
    "# Zettabyte Technical Test\n",
    "\n",
    "Name: Daffa Haj Tsaqif\n",
    "\n",
    "Note: This code uses python 3.7.14 to make it easy to run it in Google Colab due to Colab still uses that version."
   ]
  },
  {
   "cell_type": "code",
   "execution_count": 4,
   "metadata": {},
   "outputs": [
    {
     "name": "stdout",
     "output_type": "stream",
     "text": [
      "Python 3.7.14\n"
     ]
    }
   ],
   "source": [
    "!python --version\n",
    "\n",
    "COLAB_MODE = False # Set to True if you use Google Colab"
   ]
  },
  {
   "cell_type": "markdown",
   "metadata": {},
   "source": [
    "## Question\n",
    "\n",
    "1. What are the different domains of AI?\n",
    "2. What is the relation between Machine Learning and Artificial Intelligence?\n",
    "3. What are the different types of Machine Learning in AI? Explain and give examples of each.\n",
    "4. Do Text Processing with the given text\n",
    "5. Make simple face recognition with Haar Cascade"
   ]
  },
  {
   "cell_type": "markdown",
   "metadata": {},
   "source": [
    "## My Answer\n",
    "\n",
    "### 1. Different Domains of AI\n",
    "\n",
    "#### Artificial Intelligence\n",
    "The term \"Domain\" of AI is very broad, so I decided to use the image below as the case of Domains of AI.\n",
    "Artificial Intelligence is a broad term for any intelligence that can be demonstrated by machines, where machines can do tasks that previously need human intelligence."
   ]
  },
  {
   "cell_type": "markdown",
   "metadata": {},
   "source": [
    "![Domains](img/Internship-Robby-Cabang-AI.jpg)"
   ]
  },
  {
   "cell_type": "markdown",
   "metadata": {},
   "source": [
    "Artificial Intelligence has a few subsets, some of them are:\n",
    "* Machine Learning\n",
    "* Natural Language Processing\n",
    "* Computer Vision\n",
    "* Deep Leaning"
   ]
  },
  {
   "cell_type": "markdown",
   "metadata": {},
   "source": [
    "#### Machine Learning\n",
    "\n",
    "Machine Learning is a subset of Artificial Intelligence then the machine learning pattern of the given datasets using an algorithm, each algorithm has specialized tasks such as predicting future values, detecting anomalies, etc.\n",
    "\n",
    "Scikit Learn is one of the known Machine Learning libraries in Python\n",
    "\n",
    "In this area of Machine Learning where these 3 terms are introduced:\n",
    "* Supervised Learning\n",
    "* Unsupervised Learning\n",
    "* Reinforcement Learning"
   ]
  },
  {
   "cell_type": "markdown",
   "metadata": {},
   "source": [
    "#### Natural Language Processing\n",
    "\n",
    "In the diagram above Speech and NLP is considered separate area, but I will explain them as one.\n",
    "\n",
    "Natural Language Processing is a subfield of AI that provides computers to understand and process human language like English, or Bahasa. A few known application of NLP is virtual assistant like Google Home or Siri, Auto CC on Youtube is also part of the NLP application."
   ]
  },
  {
   "cell_type": "markdown",
   "metadata": {},
   "source": [
    "![Linus AutoCC](img/Screenshot%20from%202022-09-19%2021-07-01.png)\n",
    "\n",
    "An example of NLP is Auto CC on Youtube"
   ]
  },
  {
   "cell_type": "markdown",
   "metadata": {},
   "source": [
    "#### Computer Vision\n",
    "\n",
    "Computer vision is a subfield of AI that provides computers the ability to process received images and video files or live feeds.\n",
    "\n",
    "Computer vision is widely used to do image recognition, Optical Character Recognition(OCR) to extract text from imagery, self-driving vehicles, etc.\n",
    "\n",
    "OpenCV, MediaPipe, and EasyOCR are one of the few CV libraries in Python."
   ]
  },
  {
   "cell_type": "markdown",
   "metadata": {},
   "source": [
    "![FS Driverless Car](img/FSG-MIT-Delft-Driverless-Car-Competition-00_0.jpg)\n",
    "\n",
    "Example of Computer Vision Application, Formula Student Driverless Car"
   ]
  },
  {
   "cell_type": "markdown",
   "metadata": {},
   "source": [
    "#### Deep Learning\n",
    "\n",
    "Deep Learning is a subset of Machine Learning where the core purpose is the same which is to learn a pattern from a given dataset but instead of using algorithms such as Regression or K-Means, Deep Learning uses *Artificial Neural Network* or ANN which is interconnected node-based algorithms that are based on animal and human brains.\n",
    "\n",
    "Deep Learning has a few architectures, such as:\n",
    "* Convolutional Neural Network(CNN)\n",
    "* Recurrent Neural Network(RNN)\n",
    "* Long-Short Term Memory(LSTM)\n",
    "\n",
    "Tensorflow and PyTorch are the 2 most famous Deep Learning libraries out there."
   ]
  },
  {
   "cell_type": "markdown",
   "metadata": {},
   "source": [
    "![Deep Learning](img/0_Q2z_Dz8rOOS874QL.png)\n",
    "\n",
    "Example of Deep Learning Architecture"
   ]
  },
  {
   "cell_type": "markdown",
   "metadata": {},
   "source": [
    "---"
   ]
  },
  {
   "cell_type": "markdown",
   "metadata": {},
   "source": [
    "### 2. Relation between ML and AI\n",
    "\n",
    "AI itself is a broad term for Machines that are capable to do tasks that usually require human intelligence whereas Machine Learning is a subset of AI."
   ]
  },
  {
   "cell_type": "markdown",
   "metadata": {},
   "source": [
    "![AI-ML Relationship](img/0_HUsFDWZ_NBSsIie5.png)"
   ]
  },
  {
   "cell_type": "markdown",
   "metadata": {},
   "source": [
    "---"
   ]
  },
  {
   "cell_type": "markdown",
   "metadata": {},
   "source": [
    "### 3. Different Types of ML with Example\n",
    "\n",
    "In the previous explanation, I stated that Machine Learning usually divided into 3 categories/types, which are:\n",
    "* Supervised Learning\n",
    "* Unsupervised Learning\n",
    "* Reinforcement Learning"
   ]
  },
  {
   "cell_type": "markdown",
   "metadata": {},
   "source": [
    "#### Supervised Learning\n",
    "\n",
    "Supervised Learning is a type of machine learning where the data that is being fed to the Machine Learning model has a certain label or category, which the model will learn what pattern each label will have.\n",
    "\n",
    "Some of the use for this machine learning are:\n",
    "* Discord Bot learning whether the chat in the server is toxic or not\n",
    "* Image recognition to differentiate different animals\n",
    "* Recommendations of a new movie that users might like it\n",
    "* Weather Forecast to predict how the weather will behave on a given day"
   ]
  },
  {
   "cell_type": "markdown",
   "metadata": {},
   "source": [
    "#### Unsupervised Learning\n",
    "\n",
    "Unsupervised Learning is a type of machine learning where the model is only fed with data that doesn't have any label or categories, so the model might find any hidden pattern.\n",
    "\n",
    "Use cases of this method are:\n",
    "* Clustering\n",
    "* Anomaly Detection"
   ]
  },
  {
   "cell_type": "markdown",
   "metadata": {},
   "source": [
    "#### Reinforcement Learning\n",
    "\n",
    "Reinforcement Learning is a type of ML where the model learns by _Trial_ and Error* over time in an environment to maximize a reward given by the programmer. The way the model learn is similar to teaching a pet to do tricks then when the pet to something right it will be given a treat or reward.\n",
    "\n",
    "Use case of RL:\n",
    "* Humanoid Robot trains itself to stand up\n",
    "* self-driving car simulation teaches itself to park on a designated spot"
   ]
  },
  {
   "cell_type": "markdown",
   "metadata": {},
   "source": [
    "---"
   ]
  },
  {
   "cell_type": "code",
   "execution_count": 7,
   "metadata": {},
   "outputs": [],
   "source": [
    "r_link = 'hhttps://raw.githubusercontent.com/dhupee/zettabyte-test/master/requirements.txt'\n",
    "r_file = 'requirements.txt'\n",
    "\n",
    "if COLAB_MODE == True:\n",
    "    import urllib\n",
    "    # download requirements.txt then install dependencies\n",
    "    urllib.request.urlretrieve(r_link, r_file)\n",
    "    %pip install -r 'requirements.txt'"
   ]
  },
  {
   "cell_type": "code",
   "execution_count": null,
   "metadata": {},
   "outputs": [],
   "source": []
  }
 ],
 "metadata": {
  "kernelspec": {
   "display_name": "Python 3.7.14 ('venv': venv)",
   "language": "python",
   "name": "python3"
  },
  "language_info": {
   "codemirror_mode": {
    "name": "ipython",
    "version": 3
   },
   "file_extension": ".py",
   "mimetype": "text/x-python",
   "name": "python",
   "nbconvert_exporter": "python",
   "pygments_lexer": "ipython3",
   "version": "3.7.14"
  },
  "orig_nbformat": 4,
  "vscode": {
   "interpreter": {
    "hash": "985f6a1ed89e05fdace84f186ab2a0956ccaa75c9f84e2b84fa607aba79461ae"
   }
  }
 },
 "nbformat": 4,
 "nbformat_minor": 2
}
