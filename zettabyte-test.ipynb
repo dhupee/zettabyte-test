{
 "cells": [
  {
   "cell_type": "markdown",
   "metadata": {},
   "source": [
    "# Zettabyte Technical Test\n",
    "\n",
    "Name: Daffa Haj Tsaqif\n",
    "\n",
    "Note: This code uses python 3.7 to make it easy to run it in Google Colab due to Colab still uses that version"
   ]
  },
  {
   "cell_type": "markdown",
   "metadata": {},
   "source": [
    "## Question\n",
    "\n",
    "1. What are the different domains of AI?\n",
    "2. What is the relation between Machine Learning and Artificial Intelligence?\n",
    "3. What are the different types of Machine Learning in AI? Explain and give examples of each.\n",
    "4. Do Text Processing with the given text\n",
    "5. Make simple face recognition with Haar Cascade"
   ]
  },
  {
   "cell_type": "markdown",
   "metadata": {},
   "source": [
    "## My Answer\n",
    "\n",
    "### 1. Different Domains of AI\n",
    "\n",
    "#### Artificial Intelligence\n",
    "The term \"Domain\" of AI is very broad, so I decided to use the image below as the case of Domains of AI.\n",
    "Artificial Intelligence is a broad term for any intelligence that can be demonstrated by machines, where machines can do tasks that previously need human intelligence."
   ]
  },
  {
   "cell_type": "markdown",
   "metadata": {},
   "source": [
    "![Domains](img/Internship-Robby-Cabang-AI.jpg)"
   ]
  },
  {
   "cell_type": "markdown",
   "metadata": {},
   "source": [
    "Artificial Intelligence has a few subsets, some of them are:\n",
    "* Machine Learning\n",
    "* Natural Language Processing\n",
    "* Computer Vision\n",
    "* Deep Leaning"
   ]
  },
  {
   "cell_type": "markdown",
   "metadata": {},
   "source": [
    "---"
   ]
  },
  {
   "cell_type": "markdown",
   "metadata": {},
   "source": [
    "#### Machine Learning\n",
    "\n",
    "Machine Learning is a subset of Artificial Intelligence then machine learning pattern of the given datasets using an algorithm, each algorithm has specialized tasks such as predict future values, detecting anomalies, etc.\n",
    "\n",
    "In this area of Machine Learning where these 3 terms are introduced:\n",
    "* Supervised Learning\n",
    "* Unsupervised Learning\n",
    "* Reinforcement Learning"
   ]
  },
  {
   "cell_type": "markdown",
   "metadata": {},
   "source": [
    "---"
   ]
  },
  {
   "cell_type": "markdown",
   "metadata": {},
   "source": [
    "#### Natural Language Processing\n",
    "\n",
    "In the diagram above Speech and NLP is considered separate area, but I will explain them as one.\n",
    "\n",
    "Natural Language Processing is a subfield of AI that provides computers to understand and process human language like English, or Bahasa. A few known application of NLP is virtual assistant like Google Home or Siri, Auto CC on Youtube is also part of the NLP application."
   ]
  },
  {
   "cell_type": "markdown",
   "metadata": {},
   "source": [
    "![Linus AutoCC](img/Screenshot%20from%202022-09-19%2021-07-01.png)\n",
    "\n",
    "An example of NLP is Auto CC on Youtube"
   ]
  },
  {
   "cell_type": "markdown",
   "metadata": {},
   "source": [
    "---"
   ]
  },
  {
   "cell_type": "markdown",
   "metadata": {},
   "source": [
    "#### Computer Vision\n",
    "\n",
    "Computer vision is a subfield of AI that provides computers the ability to process received images and video files or live feeds.\n",
    "\n",
    "Computer vision is widely used to do image recognition, Optical Character Recognition(OCR) to extract text from imagery, self-driving vehicles, etc."
   ]
  },
  {
   "cell_type": "markdown",
   "metadata": {},
   "source": [
    "![FS Driverless Car](img/FSG-MIT-Delft-Driverless-Car-Competition-00_0.jpg)\n",
    "\n",
    "Example of Computer Vision Application, Formula Student Driverless Car"
   ]
  },
  {
   "cell_type": "markdown",
   "metadata": {},
   "source": [
    "---"
   ]
  },
  {
   "cell_type": "markdown",
   "metadata": {},
   "source": [
    "#### Deep Learning\n",
    "\n",
    "\n"
   ]
  },
  {
   "cell_type": "markdown",
   "metadata": {},
   "source": [
    "![Deep Learning](img/0_Q2z_Dz8rOOS874QL.png)"
   ]
  },
  {
   "cell_type": "markdown",
   "metadata": {},
   "source": [
    "### 2. Relation between ML and AI"
   ]
  }
 ],
 "metadata": {
  "kernelspec": {
   "display_name": "Python 3.7.14 ('venv': venv)",
   "language": "python",
   "name": "python3"
  },
  "language_info": {
   "name": "python",
   "version": "3.7.14"
  },
  "orig_nbformat": 4,
  "vscode": {
   "interpreter": {
    "hash": "985f6a1ed89e05fdace84f186ab2a0956ccaa75c9f84e2b84fa607aba79461ae"
   }
  }
 },
 "nbformat": 4,
 "nbformat_minor": 2
}
