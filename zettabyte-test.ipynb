{
 "cells": [
  {
   "cell_type": "markdown",
   "metadata": {},
   "source": [
    "# Zettabyte Technical Test\n",
    "\n",
    "Name: Daffa Haj Tsaqif\n",
    "\n",
    "Note: This code uses python 3.7 to make it easy to run it in Google Colab due to Colab still uses that version"
   ]
  },
  {
   "cell_type": "markdown",
   "metadata": {},
   "source": [
    "## Question\n",
    "\n",
    "1. What are the different domains of AI?\n",
    "2. What is the relation between Machine Learning and Artificial Intelligence?\n",
    "3. What are the different types of Machine Learning in AI? Explain and give examples of each.\n",
    "4. Do Text Processing with the given text\n",
    "5. Make simple face recognition with Haar Cascade"
   ]
  },
  {
   "cell_type": "markdown",
   "metadata": {},
   "source": [
    "## My Answer\n",
    "\n",
    "### 1. Different Domains of AI\n",
    "\n",
    "#### Artificial Intelligence\n",
    "The term \"Domain\" of AI is very broad, so I decided to use the image below as the case of Domains of AI.\n",
    "Artificial Intelligence is a broad term for any intelligence that can be demonstrated by machines, where machines can do tasks that previously need human intelligence."
   ]
  },
  {
   "cell_type": "markdown",
   "metadata": {},
   "source": [
    "![Domains](img/0_HUsFDWZ_NBSsIie5.png)"
   ]
  },
  {
   "cell_type": "markdown",
   "metadata": {},
   "source": [
    "#### Machine Learning\n",
    "\n",
    "Machine"
   ]
  },
  {
   "cell_type": "markdown",
   "metadata": {},
   "source": [
    "![Deep Learning](img/0_Q2z_Dz8rOOS874QL.png)"
   ]
  },
  {
   "cell_type": "markdown",
   "metadata": {},
   "source": [
    "### 2. Relation between ML and AI"
   ]
  }
 ],
 "metadata": {
  "kernelspec": {
   "display_name": "Python 3.7.14 ('venv': venv)",
   "language": "python",
   "name": "python3"
  },
  "language_info": {
   "name": "python",
   "version": "3.7.14"
  },
  "orig_nbformat": 4,
  "vscode": {
   "interpreter": {
    "hash": "985f6a1ed89e05fdace84f186ab2a0956ccaa75c9f84e2b84fa607aba79461ae"
   }
  }
 },
 "nbformat": 4,
 "nbformat_minor": 2
}
